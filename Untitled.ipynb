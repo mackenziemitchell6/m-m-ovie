{
 "cells": [
  {
   "cell_type": "code",
   "execution_count": 61,
   "metadata": {},
   "outputs": [],
   "source": [
    "import imdb_funcs\n",
    "import pickle"
   ]
  },
  {
   "cell_type": "code",
   "execution_count": 418,
   "metadata": {},
   "outputs": [
    {
     "data": {
      "text/plain": [
       "<module 'db_funcs' from '/Users/markbrennan/bootcamp/m-m-ovie/db_funcs.py'>"
      ]
     },
     "execution_count": 418,
     "metadata": {},
     "output_type": "execute_result"
    }
   ],
   "source": [
    "import importlib\n",
    "importlib.reload(imdb_funcs)\n",
    "importlib.reload(db_funcs)"
   ]
  },
  {
   "cell_type": "code",
   "execution_count": 13,
   "metadata": {},
   "outputs": [],
   "source": [
    "test_names_list = ['Will Smith', 'Jackie Chan', 'Selena Gomez']"
   ]
  },
  {
   "cell_type": "code",
   "execution_count": 14,
   "metadata": {},
   "outputs": [],
   "source": [
    "actor_dict_list = imdb_funcs.get_actor_titles(test_names_list)"
   ]
  },
  {
   "cell_type": "code",
   "execution_count": 28,
   "metadata": {},
   "outputs": [
    {
     "data": {
      "text/plain": [
       "'Jackie Chan'"
      ]
     },
     "execution_count": 28,
     "metadata": {},
     "output_type": "execute_result"
    }
   ],
   "source": [
    "actor_dict_list[1]['name']"
   ]
  },
  {
   "cell_type": "code",
   "execution_count": 63,
   "metadata": {},
   "outputs": [],
   "source": [
    "import json"
   ]
  },
  {
   "cell_type": "code",
   "execution_count": 64,
   "metadata": {},
   "outputs": [],
   "source": [
    "with open(\"imdb_movies_50_actors.json\", \"r\") as read_file:\n",
    "    movie_data = json.load(read_file)"
   ]
  },
  {
   "cell_type": "code",
   "execution_count": 65,
   "metadata": {},
   "outputs": [],
   "source": [
    "# with open('imdb_actors.json', 'w') as actors_json_file:\n",
    "#     json.dump(actor_dict_list)"
   ]
  },
  {
   "cell_type": "code",
   "execution_count": 72,
   "metadata": {},
   "outputs": [
    {
     "data": {
      "text/plain": [
       "{'movie_id': 'tt4154756',\n",
       " 'title': 'Avengers: Infinity War (2018)',\n",
       " 'director': 'Directors:Anthony Russo, Joe Russo',\n",
       " 'cast': ['Robert Downey Jr.',\n",
       "  'Chris Hemsworth',\n",
       "  'Mark Ruffalo',\n",
       "  'Chris Evans',\n",
       "  'Scarlett Johansson',\n",
       "  'Don Cheadle'],\n",
       " 'genres': ['Action', ' Adventure', ' Sci-Fi'],\n",
       " 'metascore': '68',\n",
       " 'budget': '321000000',\n",
       " 'box office gross usa': '678815482',\n",
       " 'box office cumulative': '2048709917',\n",
       " 'box office opening week': '257698183',\n",
       " 'studio': ' Marvel Studios'}"
      ]
     },
     "execution_count": 72,
     "metadata": {},
     "output_type": "execute_result"
    }
   ],
   "source": [
    "data[5]"
   ]
  },
  {
   "cell_type": "code",
   "execution_count": 48,
   "metadata": {},
   "outputs": [],
   "source": [
    "genre_list = []\n",
    "for item in data:\n",
    "    sub_list = []\n",
    "    if item['genres']:\n",
    "        sub_list = [genre for genre in item['genres']]\n",
    "        genre_list.extend(sub_list)\n"
   ]
  },
  {
   "cell_type": "code",
   "execution_count": 51,
   "metadata": {},
   "outputs": [],
   "source": [
    "genre_set = set(genre_list)"
   ]
  },
  {
   "cell_type": "code",
   "execution_count": 55,
   "metadata": {},
   "outputs": [],
   "source": [
    "clean_genre_set = set()"
   ]
  },
  {
   "cell_type": "code",
   "execution_count": 56,
   "metadata": {},
   "outputs": [],
   "source": [
    "for i in genre_set:\n",
    "    clean_name = i.lstrip()\n",
    "    clean_genre_set.add(clean_name)"
   ]
  },
  {
   "cell_type": "code",
   "execution_count": 71,
   "metadata": {},
   "outputs": [],
   "source": [
    "#clean_genre_set"
   ]
  },
  {
   "cell_type": "code",
   "execution_count": 60,
   "metadata": {},
   "outputs": [
    {
     "data": {
      "text/plain": [
       "11"
      ]
     },
     "execution_count": 60,
     "metadata": {},
     "output_type": "execute_result"
    }
   ],
   "source": [
    "len('Documentary')"
   ]
  },
  {
   "cell_type": "code",
   "execution_count": null,
   "metadata": {},
   "outputs": [],
   "source": [
    "\n"
   ]
  },
  {
   "cell_type": "code",
   "execution_count": null,
   "metadata": {},
   "outputs": [],
   "source": []
  },
  {
   "cell_type": "code",
   "execution_count": 125,
   "metadata": {},
   "outputs": [],
   "source": [
    "    INSERT_STR = f'INSERT INTO movies (title_id, title, director, studio, meta_score, budget, bo_gu, bo_ww, bo_ow) '\n",
    "\n",
    "    VALUE_STR = 'values ({}, {}, {}, {}, {:d}, {:d}, {:d}, {:d}, {:d})'\n",
    "    "
   ]
  },
  {
   "cell_type": "code",
   "execution_count": null,
   "metadata": {},
   "outputs": [],
   "source": []
  },
  {
   "cell_type": "code",
   "execution_count": null,
   "metadata": {},
   "outputs": [],
   "source": []
  },
  {
   "cell_type": "code",
   "execution_count": 70,
   "metadata": {},
   "outputs": [],
   "source": [
    "# formatted_values = VALUE_STR.format(title_id, title, director,\n",
    "#                                         studio, meta_score, budget, bo_gu,\n",
    "#                                         bo_ww, bo_ow)"
   ]
  },
  {
   "cell_type": "code",
   "execution_count": 267,
   "metadata": {},
   "outputs": [],
   "source": [
    "title_id = 'tt4154756'\n",
    "title = 'Avengers'#: Infinity War'# (2018)'\n",
    "director = 'Anthony Russo'\n",
    "studio = 'Marvel Studios'\n",
    "meta_score = 68\n",
    "budget = 321000000\n",
    "bo_gu = 678815482\n",
    "bo_ww = 2048709917\n",
    "bo_ow = 257698183"
   ]
  },
  {
   "cell_type": "code",
   "execution_count": 127,
   "metadata": {},
   "outputs": [
    {
     "data": {
      "text/plain": [
       "'INSERT INTO movies (title_id, title, director, studio, meta_score, budget, bo_gu, bo_ww, bo_ow) '"
      ]
     },
     "execution_count": 127,
     "metadata": {},
     "output_type": "execute_result"
    }
   ],
   "source": [
    "INSERT_STR"
   ]
  },
  {
   "cell_type": "code",
   "execution_count": 128,
   "metadata": {},
   "outputs": [
    {
     "data": {
      "text/plain": [
       "'values ({}, {}, {}, {}, {:d}, {:d}, {:d}, {:d}, {:d})'"
      ]
     },
     "execution_count": 128,
     "metadata": {},
     "output_type": "execute_result"
    }
   ],
   "source": [
    "VALUE_STR"
   ]
  },
  {
   "cell_type": "code",
   "execution_count": 138,
   "metadata": {},
   "outputs": [],
   "source": [
    "VAL_STR = 'VALUES (%s, %s, %s, %s, %d, %d, %d, %d, %d)'"
   ]
  },
  {
   "cell_type": "code",
   "execution_count": 139,
   "metadata": {},
   "outputs": [
    {
     "data": {
      "text/plain": [
       "'INSERT INTO movies (title_id, title, director, studio, meta_score, budget, bo_gu, bo_ww, bo_ow) '"
      ]
     },
     "execution_count": 139,
     "metadata": {},
     "output_type": "execute_result"
    }
   ],
   "source": [
    "INSERT_STR"
   ]
  },
  {
   "cell_type": "code",
   "execution_count": 140,
   "metadata": {},
   "outputs": [],
   "source": [
    "QUERY_STR = INSERT_STR + VAL_STR"
   ]
  },
  {
   "cell_type": "code",
   "execution_count": 141,
   "metadata": {},
   "outputs": [
    {
     "data": {
      "text/plain": [
       "'INSERT INTO movies (title_id, title, director, studio, meta_score, budget, bo_gu, bo_ww, bo_ow) VALUES (%s, %s, %s, %s, %d, %d, %d, %d, %d)'"
      ]
     },
     "execution_count": 141,
     "metadata": {},
     "output_type": "execute_result"
    }
   ],
   "source": [
    "QUERY_STR"
   ]
  },
  {
   "cell_type": "code",
   "execution_count": 146,
   "metadata": {},
   "outputs": [],
   "source": [
    "values = (title_id, title, director, studio, meta_score, budget, bo_gu, bo_ww, bo_ow)"
   ]
  },
  {
   "cell_type": "code",
   "execution_count": 131,
   "metadata": {},
   "outputs": [],
   "source": [
    "import db_funcs\n",
    "import config"
   ]
  },
  {
   "cell_type": "code",
   "execution_count": 165,
   "metadata": {},
   "outputs": [],
   "source": [
    "conn = db_funcs.get_db_conn(config)"
   ]
  },
  {
   "cell_type": "code",
   "execution_count": 379,
   "metadata": {},
   "outputs": [
    {
     "data": {
      "text/plain": [
       "<module 'db_funcs' from '/Users/markbrennan/bootcamp/m-m-ovie/db_funcs.py'>"
      ]
     },
     "execution_count": 379,
     "metadata": {},
     "output_type": "execute_result"
    }
   ],
   "source": [
    "import importlib\n",
    "importlib.reload(config)\n",
    "importlib.reload(db_funcs)"
   ]
  },
  {
   "cell_type": "code",
   "execution_count": 268,
   "metadata": {},
   "outputs": [],
   "source": [
    "\n",
    "VAL_STR = f'values ({title_id}, {title}, {director}, {studio}, {meta_score}, {bo_gu}, {bo_ww}, {bo_ow})'\n"
   ]
  },
  {
   "cell_type": "code",
   "execution_count": 269,
   "metadata": {},
   "outputs": [
    {
     "data": {
      "text/plain": [
       "'values (tt4154756, Avengers, Anthony Russo, Marvel Studios, 68, 678815482, 2048709917, 257698183)'"
      ]
     },
     "execution_count": 269,
     "metadata": {},
     "output_type": "execute_result"
    }
   ],
   "source": [
    "VAL_STR"
   ]
  },
  {
   "cell_type": "code",
   "execution_count": null,
   "metadata": {},
   "outputs": [],
   "source": []
  },
  {
   "cell_type": "code",
   "execution_count": 224,
   "metadata": {},
   "outputs": [],
   "source": [
    "query_str = 'INSERT INTO movies (title_id, title, director, studio, meta_score, budget, bo_gu, bo_ww, bo_ow) '"
   ]
  },
  {
   "cell_type": "code",
   "execution_count": 225,
   "metadata": {},
   "outputs": [
    {
     "data": {
      "text/plain": [
       "'INSERT INTO movies (title_id, title, director, studio, meta_score, budget, bo_gu, bo_ww, bo_ow) '"
      ]
     },
     "execution_count": 225,
     "metadata": {},
     "output_type": "execute_result"
    }
   ],
   "source": [
    "query_str"
   ]
  },
  {
   "cell_type": "code",
   "execution_count": 226,
   "metadata": {},
   "outputs": [
    {
     "data": {
      "text/plain": [
       "'values (tt4154756, Avengers: Infinity War, Anthony Russo, Marvel Studios, 68, 678815482, 2048709917, 257698183)'"
      ]
     },
     "execution_count": 226,
     "metadata": {},
     "output_type": "execute_result"
    }
   ],
   "source": [
    "VAL_STR"
   ]
  },
  {
   "cell_type": "code",
   "execution_count": 270,
   "metadata": {},
   "outputs": [],
   "source": [
    "exec_query = query_str + VAL_STR"
   ]
  },
  {
   "cell_type": "code",
   "execution_count": 271,
   "metadata": {},
   "outputs": [
    {
     "data": {
      "text/plain": [
       "'INSERT INTO movies (title_id, title, director, studio, meta_score, budget, bo_gu, bo_ww, bo_ow) values (tt4154756, Avengers, Anthony Russo, Marvel Studios, 68, 678815482, 2048709917, 257698183)'"
      ]
     },
     "execution_count": 271,
     "metadata": {},
     "output_type": "execute_result"
    }
   ],
   "source": [
    "exec_query"
   ]
  },
  {
   "cell_type": "code",
   "execution_count": null,
   "metadata": {},
   "outputs": [],
   "source": []
  },
  {
   "cell_type": "code",
   "execution_count": 272,
   "metadata": {},
   "outputs": [],
   "source": [
    "conn.close()"
   ]
  },
  {
   "cell_type": "code",
   "execution_count": 273,
   "metadata": {},
   "outputs": [],
   "source": [
    "conn = db_funcs.get_db_conn(config)"
   ]
  },
  {
   "cell_type": "code",
   "execution_count": 274,
   "metadata": {},
   "outputs": [],
   "source": [
    "cursor = conn.cursor()"
   ]
  },
  {
   "cell_type": "code",
   "execution_count": 280,
   "metadata": {},
   "outputs": [],
   "source": [
    "test_id = 'tt456'\n",
    "test_val = 200"
   ]
  },
  {
   "cell_type": "code",
   "execution_count": 295,
   "metadata": {},
   "outputs": [],
   "source": [
    "test_val_str = f'values ({test_id}, {test_val})'"
   ]
  },
  {
   "cell_type": "code",
   "execution_count": 312,
   "metadata": {},
   "outputs": [],
   "source": [
    "test_ins = \"\"\"insert into test (id, num_val) values(%s, %s)\"\"\""
   ]
  },
  {
   "cell_type": "code",
   "execution_count": 313,
   "metadata": {},
   "outputs": [],
   "source": [
    "vals = (test_id, test_val)"
   ]
  },
  {
   "cell_type": "code",
   "execution_count": 314,
   "metadata": {},
   "outputs": [
    {
     "data": {
      "text/plain": [
       "('tt456', 200)"
      ]
     },
     "execution_count": 314,
     "metadata": {},
     "output_type": "execute_result"
    }
   ],
   "source": [
    "vals"
   ]
  },
  {
   "cell_type": "code",
   "execution_count": 315,
   "metadata": {},
   "outputs": [
    {
     "data": {
      "text/plain": [
       "'insert into test (id, num_val) values(%s, %s)'"
      ]
     },
     "execution_count": 315,
     "metadata": {},
     "output_type": "execute_result"
    }
   ],
   "source": [
    "test_ins"
   ]
  },
  {
   "cell_type": "code",
   "execution_count": 299,
   "metadata": {},
   "outputs": [],
   "source": [
    "conn.close()"
   ]
  },
  {
   "cell_type": "code",
   "execution_count": 300,
   "metadata": {},
   "outputs": [],
   "source": [
    "conn = db_funcs.get_db_conn(config)"
   ]
  },
  {
   "cell_type": "code",
   "execution_count": 301,
   "metadata": {},
   "outputs": [],
   "source": [
    "cursor = conn.cursor()"
   ]
  },
  {
   "cell_type": "code",
   "execution_count": 316,
   "metadata": {},
   "outputs": [],
   "source": [
    "cursor.execute(test_ins, vals)"
   ]
  },
  {
   "cell_type": "code",
   "execution_count": 317,
   "metadata": {},
   "outputs": [],
   "source": [
    "conn.commit()"
   ]
  },
  {
   "cell_type": "code",
   "execution_count": 285,
   "metadata": {},
   "outputs": [
    {
     "data": {
      "text/plain": [
       "'insert into test (id, num_val) values (tt456, 200)'"
      ]
     },
     "execution_count": 285,
     "metadata": {},
     "output_type": "execute_result"
    }
   ],
   "source": [
    "test_q"
   ]
  },
  {
   "cell_type": "code",
   "execution_count": 318,
   "metadata": {},
   "outputs": [
    {
     "data": {
      "text/plain": [
       "('tt4154756',\n",
       " 'Avengers: Infinity War (2018)',\n",
       " 'Anthony Russo',\n",
       " 'Marvel Studios',\n",
       " 68,\n",
       " 321000000,\n",
       " 678815482,\n",
       " 2048709917,\n",
       " 257698183)"
      ]
     },
     "execution_count": 318,
     "metadata": {},
     "output_type": "execute_result"
    }
   ],
   "source": [
    "values"
   ]
  },
  {
   "cell_type": "code",
   "execution_count": 322,
   "metadata": {},
   "outputs": [],
   "source": [
    "insert_str = \"\"\"Insert into movies (title_id, title, director, studio, meta_score, budget, bo_gu, bo_ww, bo_ow) values (%s, %s, %s, %s, %s, %s, %s, %s, %s)\"\"\""
   ]
  },
  {
   "cell_type": "code",
   "execution_count": 330,
   "metadata": {},
   "outputs": [
    {
     "data": {
      "text/plain": [
       "'Insert into movies (title_id, title, director, studio, meta_score, budget, bo_gu, bo_ww, bo_ow) values (%s, %s, %s, %s, %s, %s, %s, %s, %s)'"
      ]
     },
     "execution_count": 330,
     "metadata": {},
     "output_type": "execute_result"
    }
   ],
   "source": [
    "insert_str"
   ]
  },
  {
   "cell_type": "code",
   "execution_count": 325,
   "metadata": {},
   "outputs": [
    {
     "data": {
      "text/plain": [
       "('tt4154756',\n",
       " 'Avengers: Infinity War (2018)',\n",
       " 'Anthony Russo',\n",
       " 'Marvel Studios',\n",
       " 68,\n",
       " 321000000,\n",
       " 678815482,\n",
       " 2048709917,\n",
       " 257698183)"
      ]
     },
     "execution_count": 325,
     "metadata": {},
     "output_type": "execute_result"
    }
   ],
   "source": [
    "values"
   ]
  },
  {
   "cell_type": "code",
   "execution_count": 331,
   "metadata": {},
   "outputs": [],
   "source": [
    "cursor.execute(insert_str, values)"
   ]
  },
  {
   "cell_type": "code",
   "execution_count": 332,
   "metadata": {},
   "outputs": [],
   "source": [
    "conn.commit()"
   ]
  },
  {
   "cell_type": "code",
   "execution_count": 334,
   "metadata": {},
   "outputs": [
    {
     "data": {
      "text/plain": [
       "('tt4154756',\n",
       " 'Avengers: Infinity War (2018)',\n",
       " 'Anthony Russo',\n",
       " 'Marvel Studios',\n",
       " 68,\n",
       " 321000000,\n",
       " 678815482,\n",
       " 2048709917,\n",
       " 257698183)"
      ]
     },
     "execution_count": 334,
     "metadata": {},
     "output_type": "execute_result"
    }
   ],
   "source": [
    "values"
   ]
  },
  {
   "cell_type": "code",
   "execution_count": 338,
   "metadata": {},
   "outputs": [],
   "source": [
    "db_funcs.insert_movie_values(cursor, values[0], values[1], values[2], values[3], values[4], values[5], values[6], values[7], values[8])"
   ]
  },
  {
   "cell_type": "code",
   "execution_count": 339,
   "metadata": {},
   "outputs": [],
   "source": [
    "conn.commit()"
   ]
  },
  {
   "cell_type": "code",
   "execution_count": 340,
   "metadata": {},
   "outputs": [
    {
     "data": {
      "text/plain": [
       "'Insert into movies (title_id, title, director, studio, meta_score, budget, bo_gu, bo_ww, bo_ow) values (%s, %s, %s, %s, %s, %s, %s, %s, %s)'"
      ]
     },
     "execution_count": 340,
     "metadata": {},
     "output_type": "execute_result"
    }
   ],
   "source": [
    "insert_str"
   ]
  },
  {
   "cell_type": "code",
   "execution_count": 341,
   "metadata": {},
   "outputs": [],
   "source": [
    "### ACTORS"
   ]
  },
  {
   "cell_type": "code",
   "execution_count": 342,
   "metadata": {},
   "outputs": [],
   "source": [
    "import json"
   ]
  },
  {
   "cell_type": "code",
   "execution_count": 343,
   "metadata": {},
   "outputs": [],
   "source": [
    "actor_file = open('imdb_actors.json', 'r')"
   ]
  },
  {
   "cell_type": "code",
   "execution_count": 344,
   "metadata": {},
   "outputs": [],
   "source": [
    "actor_json = json.load(actor_file)"
   ]
  },
  {
   "cell_type": "code",
   "execution_count": 347,
   "metadata": {},
   "outputs": [],
   "source": [
    "import pickle"
   ]
  },
  {
   "cell_type": "code",
   "execution_count": 348,
   "metadata": {},
   "outputs": [],
   "source": [
    "actor_pickle = open('popularActors.pkl', 'rb')"
   ]
  },
  {
   "cell_type": "code",
   "execution_count": 350,
   "metadata": {},
   "outputs": [],
   "source": [
    "actor_data = pickle.load(actor_pickle)"
   ]
  },
  {
   "cell_type": "code",
   "execution_count": 367,
   "metadata": {},
   "outputs": [],
   "source": [
    "actor_insert = \"\"\"insert into actors (actor_id, first_name, last_name, pop_rank, social_rank, salary) values (%s, %s, %s, %s, %s, %s)\"\"\""
   ]
  },
  {
   "cell_type": "code",
   "execution_count": 368,
   "metadata": {},
   "outputs": [],
   "source": [
    "chris_evans = ('nm0262635', 'Chris', 'Smith', 100, 200, 5000000)"
   ]
  },
  {
   "cell_type": "code",
   "execution_count": 369,
   "metadata": {},
   "outputs": [
    {
     "data": {
      "text/plain": [
       "('nm0262635', 'Chris', 'Smith', 100, 200, 5000000)"
      ]
     },
     "execution_count": 369,
     "metadata": {},
     "output_type": "execute_result"
    }
   ],
   "source": [
    "chris_evans"
   ]
  },
  {
   "cell_type": "code",
   "execution_count": 370,
   "metadata": {},
   "outputs": [
    {
     "data": {
      "text/plain": [
       "'insert into actors (actor_id, first_name, last_name, pop_rank, social_rank, salary) values (%s, %s, %s, %s, %s, %s)'"
      ]
     },
     "execution_count": 370,
     "metadata": {},
     "output_type": "execute_result"
    }
   ],
   "source": [
    "actor_insert"
   ]
  },
  {
   "cell_type": "code",
   "execution_count": 371,
   "metadata": {},
   "outputs": [],
   "source": [
    "conn.close()"
   ]
  },
  {
   "cell_type": "code",
   "execution_count": 372,
   "metadata": {},
   "outputs": [],
   "source": [
    "conn = db_funcs.get_db_conn(config)"
   ]
  },
  {
   "cell_type": "code",
   "execution_count": 373,
   "metadata": {},
   "outputs": [],
   "source": [
    "cursor = conn.cursor()"
   ]
  },
  {
   "cell_type": "code",
   "execution_count": 374,
   "metadata": {},
   "outputs": [],
   "source": [
    "cursor.execute(actor_insert, chris_evans)"
   ]
  },
  {
   "cell_type": "code",
   "execution_count": 375,
   "metadata": {},
   "outputs": [],
   "source": [
    "conn.commit()"
   ]
  },
  {
   "cell_type": "code",
   "execution_count": 376,
   "metadata": {},
   "outputs": [],
   "source": [
    "conn.close()"
   ]
  },
  {
   "cell_type": "code",
   "execution_count": 377,
   "metadata": {},
   "outputs": [],
   "source": [
    "conn = db_funcs.get_db_conn(config)"
   ]
  },
  {
   "cell_type": "code",
   "execution_count": 378,
   "metadata": {},
   "outputs": [],
   "source": [
    "cursor = conn.cursor()"
   ]
  },
  {
   "cell_type": "code",
   "execution_count": 381,
   "metadata": {},
   "outputs": [],
   "source": [
    "db_funcs.insert_actor_values(cursor, 'nm0262635', 'Chris', 'Smith', 50, 20, 75000000)"
   ]
  },
  {
   "cell_type": "code",
   "execution_count": 382,
   "metadata": {},
   "outputs": [],
   "source": [
    "conn.commit()"
   ]
  },
  {
   "cell_type": "code",
   "execution_count": null,
   "metadata": {},
   "outputs": [],
   "source": []
  },
  {
   "cell_type": "code",
   "execution_count": 384,
   "metadata": {},
   "outputs": [],
   "source": [
    "import pickle"
   ]
  },
  {
   "cell_type": "code",
   "execution_count": 387,
   "metadata": {},
   "outputs": [],
   "source": [
    "pop_act_file = open('popularActorsRanked.pkl', 'rb')"
   ]
  },
  {
   "cell_type": "code",
   "execution_count": 388,
   "metadata": {},
   "outputs": [],
   "source": [
    "pop_act_data = pickle.load(pop_act_file)"
   ]
  },
  {
   "cell_type": "code",
   "execution_count": 390,
   "metadata": {},
   "outputs": [
    {
     "data": {
      "text/plain": [
       "50"
      ]
     },
     "execution_count": 390,
     "metadata": {},
     "output_type": "execute_result"
    }
   ],
   "source": [
    "len(pop_act_data)"
   ]
  },
  {
   "cell_type": "code",
   "execution_count": 391,
   "metadata": {},
   "outputs": [],
   "source": [
    "social_act_file = open('socialMediaData.pkl', 'rb')"
   ]
  },
  {
   "cell_type": "code",
   "execution_count": 392,
   "metadata": {},
   "outputs": [],
   "source": [
    "social_data = pickle.load(social_act_file)"
   ]
  },
  {
   "cell_type": "code",
   "execution_count": 394,
   "metadata": {},
   "outputs": [
    {
     "data": {
      "text/plain": [
       "200"
      ]
     },
     "execution_count": 394,
     "metadata": {},
     "output_type": "execute_result"
    }
   ],
   "source": [
    "len(social_data)"
   ]
  },
  {
   "cell_type": "code",
   "execution_count": 395,
   "metadata": {},
   "outputs": [],
   "source": [
    "sal_act_file = open('salaryData.pkl', 'rb')"
   ]
  },
  {
   "cell_type": "code",
   "execution_count": 396,
   "metadata": {},
   "outputs": [],
   "source": [
    "sal_data = pickle.load(sal_act_file)"
   ]
  },
  {
   "cell_type": "code",
   "execution_count": 398,
   "metadata": {},
   "outputs": [
    {
     "data": {
      "text/plain": [
       "30"
      ]
     },
     "execution_count": 398,
     "metadata": {},
     "output_type": "execute_result"
    }
   ],
   "source": [
    "len(sal_data)"
   ]
  },
  {
   "cell_type": "code",
   "execution_count": 402,
   "metadata": {},
   "outputs": [],
   "source": [
    "#\n",
    "# data structures:\n",
    "# po_act_data:\n",
    "#     {'name': 'Chris Evans', 'popularityRank': 1}\n",
    "# social_data[0]:\n",
    "#     {'name': 'Vin Diesel', 'Online following': 100423198}\n",
    "# sal_data\n",
    "#     actorName': 'Mark Wahlberg', 'salary': 68.0}\n",
    "#"
   ]
  },
  {
   "cell_type": "code",
   "execution_count": 413,
   "metadata": {},
   "outputs": [],
   "source": [
    "name = 'Chris Evans'"
   ]
  },
  {
   "cell_type": "code",
   "execution_count": 416,
   "metadata": {},
   "outputs": [
    {
     "data": {
      "text/plain": [
       "'Chris'"
      ]
     },
     "execution_count": 416,
     "metadata": {},
     "output_type": "execute_result"
    }
   ],
   "source": [
    "name.split()[0]"
   ]
  },
  {
   "cell_type": "code",
   "execution_count": 424,
   "metadata": {},
   "outputs": [
    {
     "data": {
      "text/plain": [
       "[{'name': 'Channing Tatum', 'popularityRank': 4},\n",
       " {'name': 'George Clooney', 'popularityRank': 5}]"
      ]
     },
     "execution_count": 424,
     "metadata": {},
     "output_type": "execute_result"
    }
   ],
   "source": [
    "pop_act_data[3:5]"
   ]
  },
  {
   "cell_type": "code",
   "execution_count": 425,
   "metadata": {},
   "outputs": [],
   "source": [
    "test_list = pop_act_data[3:5]"
   ]
  },
  {
   "cell_type": "code",
   "execution_count": 426,
   "metadata": {},
   "outputs": [
    {
     "data": {
      "text/plain": [
       "[{'name': 'Channing Tatum', 'popularityRank': 4},\n",
       " {'name': 'George Clooney', 'popularityRank': 5}]"
      ]
     },
     "execution_count": 426,
     "metadata": {},
     "output_type": "execute_result"
    }
   ],
   "source": [
    "test_list"
   ]
  },
  {
   "cell_type": "code",
   "execution_count": 432,
   "metadata": {},
   "outputs": [
    {
     "data": {
      "text/plain": [
       "{'name': 'Vin Diesel', 'Online following': 100423198}"
      ]
     },
     "execution_count": 432,
     "metadata": {},
     "output_type": "execute_result"
    }
   ],
   "source": [
    "social_data[0]"
   ]
  },
  {
   "cell_type": "code",
   "execution_count": 442,
   "metadata": {},
   "outputs": [],
   "source": [
    "def get_actor_dict_list(actor_data):\n",
    "    actor_dict_list = []\n",
    "    for actor in actor_data:\n",
    "        # get first, last, pop_rank\n",
    "        full_name = actor['name']\n",
    "        first = actor['name'].split()[0]\n",
    "        last = actor['name'].split()[1]\n",
    "        pop_rank = actor['popularityRank']\n",
    "        actor_id = imdb_funcs.get_id_from_actor_name(full_name)\n",
    "        social_score = 0\n",
    "        salary_amt  = 0\n",
    "        \n",
    "        # check for additional social data - gonna do brute force search!\n",
    "        for social in social_data:\n",
    "            if full_name == social['name']:\n",
    "                social_score = social['Online following']\n",
    "        \n",
    "        # check for additional salary data - gonna do brute force search\n",
    "        for salary in sal_data:\n",
    "            if full_name == salary['actorName']:\n",
    "                salary_amt = salary['salary']\n",
    "\n",
    "        # populate our actor dict:\n",
    "        actor_dict = dict(actor_id=actor_id, first=first, last=last, \n",
    "                          pop_rank=pop_rank, social=social_score, salary=salary_amt)\n",
    "        actor_dict_list.append(actor_dict)\n",
    "\n",
    "    return actor_dict_list\n",
    "    \n",
    "    \n",
    "    "
   ]
  },
  {
   "cell_type": "code",
   "execution_count": 443,
   "metadata": {},
   "outputs": [],
   "source": [
    "test_ret_list = get_actor_dict_list(test_list)"
   ]
  },
  {
   "cell_type": "code",
   "execution_count": 445,
   "metadata": {},
   "outputs": [
    {
     "data": {
      "text/plain": [
       "[{'actor_id': 'nm1475594',\n",
       "  'first': 'Channing',\n",
       "  'last': 'Tatum',\n",
       "  'pop_rank': 4,\n",
       "  'social': 0,\n",
       "  'salary': 0},\n",
       " {'actor_id': 'nm0000123',\n",
       "  'first': 'George',\n",
       "  'last': 'Clooney',\n",
       "  'pop_rank': 5,\n",
       "  'social': 0,\n",
       "  'salary': 0}]"
      ]
     },
     "execution_count": 445,
     "metadata": {},
     "output_type": "execute_result"
    }
   ],
   "source": [
    "test_ret_list"
   ]
  },
  {
   "cell_type": "code",
   "execution_count": 446,
   "metadata": {},
   "outputs": [],
   "source": [
    "full_actor_list = get_actor_dict_list(pop_act_data)"
   ]
  },
  {
   "cell_type": "code",
   "execution_count": 448,
   "metadata": {},
   "outputs": [
    {
     "data": {
      "text/plain": [
       "50"
      ]
     },
     "execution_count": 448,
     "metadata": {},
     "output_type": "execute_result"
    }
   ],
   "source": [
    "len(full_actor_list)"
   ]
  },
  {
   "cell_type": "code",
   "execution_count": null,
   "metadata": {},
   "outputs": [],
   "source": []
  }
 ],
 "metadata": {
  "kernelspec": {
   "display_name": "Python 3",
   "language": "python",
   "name": "python3"
  },
  "language_info": {
   "codemirror_mode": {
    "name": "ipython",
    "version": 3
   },
   "file_extension": ".py",
   "mimetype": "text/x-python",
   "name": "python",
   "nbconvert_exporter": "python",
   "pygments_lexer": "ipython3",
   "version": "3.6.6"
  }
 },
 "nbformat": 4,
 "nbformat_minor": 2
}
